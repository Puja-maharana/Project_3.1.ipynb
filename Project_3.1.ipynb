{
 "cells": [
  {
   "cell_type": "code",
   "execution_count": 46,
   "id": "cc41e48b-f030-4899-a45e-652eac7888ed",
   "metadata": {},
   "outputs": [],
   "source": [
    "#Q1. Which keyword is used to create a function? Create a function to return a list of odd numbers in the range of 1 to 25."
   ]
  },
  {
   "cell_type": "code",
   "execution_count": 47,
   "id": "e5fdcf5d-41d3-4e86-8f64-f2d5f5ffbd6d",
   "metadata": {},
   "outputs": [],
   "source": [
    "#def keyword is used to create a function\n",
    "\n",
    "def odd_nu():\n",
    "    l=[]\n",
    "    for i in range(1,26):\n",
    "        if i%2!=0:\n",
    "            l.append(i)\n",
    "    return l "
   ]
  },
  {
   "cell_type": "code",
   "execution_count": 48,
   "id": "8d66d469-69df-4216-b4c1-919409de92ae",
   "metadata": {},
   "outputs": [
    {
     "data": {
      "text/plain": [
       "[1, 3, 5, 7, 9, 11, 13, 15, 17, 19, 21, 23, 25]"
      ]
     },
     "execution_count": 48,
     "metadata": {},
     "output_type": "execute_result"
    }
   ],
   "source": [
    "odd_nu()"
   ]
  },
  {
   "cell_type": "code",
   "execution_count": 50,
   "id": "e5a5bcff-8832-426d-94ab-45f2aa939627",
   "metadata": {},
   "outputs": [],
   "source": [
    "#Q2. Why *args and **kwargs is used in some functions? Create a function each for *args and **kwargs to demonstrate their use."
   ]
  },
  {
   "cell_type": "code",
   "execution_count": 51,
   "id": "cb30667d-da4e-4c20-849a-96e93beb4d29",
   "metadata": {},
   "outputs": [],
   "source": [
    "#When we dont know the number of elements to define in a function we use args (here the name after can be any) and when we want the elements accepted in the form of dictionary (ie.key value pair we use kwargs here the name after can be any)"
   ]
  },
  {
   "cell_type": "code",
   "execution_count": 52,
   "id": "5c216f07-0bc1-41c3-8e7a-13ea65d10f35",
   "metadata": {},
   "outputs": [],
   "source": [
    "def func(a,d) :\n",
    "    pass"
   ]
  },
  {
   "cell_type": "code",
   "execution_count": 53,
   "id": "3de80407-ce8a-48b1-8be2-13f425a121e5",
   "metadata": {},
   "outputs": [],
   "source": [
    "func(1,2)"
   ]
  },
  {
   "cell_type": "code",
   "execution_count": 54,
   "id": "d230c673-584f-41b3-be3e-990ed662d7c2",
   "metadata": {},
   "outputs": [],
   "source": [
    "func(1,4)"
   ]
  },
  {
   "cell_type": "code",
   "execution_count": 55,
   "id": "36b79b1d-93ed-4732-82a9-c6f82786b010",
   "metadata": {},
   "outputs": [],
   "source": [
    "#to solve the above error we use *args\n",
    "def func1(*args):\n",
    "    return args"
   ]
  },
  {
   "cell_type": "code",
   "execution_count": 56,
   "id": "3a5d7bd1-9a40-4c92-93bc-7e0128d87bc3",
   "metadata": {},
   "outputs": [
    {
     "data": {
      "text/plain": [
       "tuple"
      ]
     },
     "execution_count": 56,
     "metadata": {},
     "output_type": "execute_result"
    }
   ],
   "source": [
    "type(func1())"
   ]
  },
  {
   "cell_type": "code",
   "execution_count": 57,
   "id": "b9f444f6-bab3-433b-a85d-bf12fcab663a",
   "metadata": {},
   "outputs": [
    {
     "data": {
      "text/plain": [
       "(1, 2, 3, 'cds', 10.2)"
      ]
     },
     "execution_count": 57,
     "metadata": {},
     "output_type": "execute_result"
    }
   ],
   "source": [
    "func1(1,2,3,\"cds\",10.2)"
   ]
  },
  {
   "cell_type": "code",
   "execution_count": 58,
   "id": "bb51f3fe-047f-4e6e-90b6-1f13ca4eb1c2",
   "metadata": {},
   "outputs": [
    {
     "data": {
      "text/plain": [
       "(1, 2, 3, 'code', 43.2, 431, 77.112, 4223, 'sun')"
      ]
     },
     "execution_count": 58,
     "metadata": {},
     "output_type": "execute_result"
    }
   ],
   "source": [
    "#we can pass any number of elements while calling function\n",
    "func1(1,2,3,\"code\",43.2,431,77.112,4223,\"sun\")"
   ]
  },
  {
   "cell_type": "code",
   "execution_count": 59,
   "id": "a51ce855-fa00-43dc-aa59-bfd5419e7acb",
   "metadata": {},
   "outputs": [],
   "source": [
    "def func2(**kwargs):\n",
    "    return kwargs"
   ]
  },
  {
   "cell_type": "code",
   "execution_count": 60,
   "id": "12126eff-e873-4dd0-96ae-a08717d91d1e",
   "metadata": {},
   "outputs": [
    {
     "data": {
      "text/plain": [
       "{'a': 19, 'b': 33, 'c': 15, 'd': 100}"
      ]
     },
     "execution_count": 60,
     "metadata": {},
     "output_type": "execute_result"
    }
   ],
   "source": [
    "func2(a=19,b=33,c=15,d=100)"
   ]
  },
  {
   "cell_type": "code",
   "execution_count": 61,
   "id": "eb60fb5d-3945-443f-b07f-8b2c0185f623",
   "metadata": {},
   "outputs": [
    {
     "data": {
      "text/plain": [
       "dict"
      ]
     },
     "execution_count": 61,
     "metadata": {},
     "output_type": "execute_result"
    }
   ],
   "source": [
    "type(func2())"
   ]
  },
  {
   "cell_type": "code",
   "execution_count": 62,
   "id": "1aad3ce7-c22d-4bc1-9baa-bbd715cef8b5",
   "metadata": {},
   "outputs": [],
   "source": [
    "#We can use both together also\n",
    "\n",
    "def func3(*args,**kwargs):\n",
    "    return args,kwargs"
   ]
  },
  {
   "cell_type": "code",
   "execution_count": 63,
   "id": "bf389298-4512-478f-907a-b03d98f013f1",
   "metadata": {},
   "outputs": [
    {
     "data": {
      "text/plain": [
       "((1, 2, 3), {'r': 33, 's': 19, 't': 20})"
      ]
     },
     "execution_count": 63,
     "metadata": {},
     "output_type": "execute_result"
    }
   ],
   "source": [
    "func3(1,2,3,r=33,s=19,t=20)"
   ]
  },
  {
   "cell_type": "code",
   "execution_count": 65,
   "id": "0007b49a-ec90-40a3-9a75-efc84f8a9003",
   "metadata": {},
   "outputs": [
    {
     "ename": "SyntaxError",
     "evalue": "invalid syntax (2226440480.py, line 2)",
     "output_type": "error",
     "traceback": [
      "\u001b[0;36m  Cell \u001b[0;32mIn[65], line 2\u001b[0;36m\u001b[0m\n\u001b[0;31m    used for iteration. Use these methods to print the first five elements of the given list [2, 4, 6, 8, 10, 12, 14,\u001b[0m\n\u001b[0m         ^\u001b[0m\n\u001b[0;31mSyntaxError\u001b[0m\u001b[0;31m:\u001b[0m invalid syntax\n"
     ]
    }
   ],
   "source": [
    "#Q3. What is an iterator in python? Name the method used to initialise the iterator object and the method\n",
    "used for iteration. Use these methods to print the first five elements of the given list [2, 4, 6, 8, 10, 12, 14,\n",
    "16, 18, 20]."
   ]
  },
  {
   "cell_type": "code",
   "execution_count": 27,
   "id": "cf0a4bba-5adb-4542-a138-98c3aed12cc9",
   "metadata": {},
   "outputs": [
    {
     "name": "stdout",
     "output_type": "stream",
     "text": [
      "<class 'list_iterator'>\n",
      "Manually 2\n",
      "From loop : 4\n",
      "From loop : 6\n",
      "From loop : 8\n",
      "From loop : 10\n"
     ]
    }
   ],
   "source": [
    "l = [2, 4, 6, 8, 10, 12, 14, 16, 18, 20]\n",
    "\n",
    "# Create an iterator object\n",
    "iter_list = iter(l)\n",
    "\n",
    "print(type(iter_list))\n",
    "\n",
    "print(\"Manually\",next(iter_list))#print 1st element 2\n",
    "\n",
    "for i in range(4): #for printing the next 4 elements\n",
    "    print(\"From loop :\",next(iter_list))"
   ]
  },
  {
   "cell_type": "code",
   "execution_count": null,
   "id": "c60e85f5-d3ef-4dc0-ada6-d831e6e93b7b",
   "metadata": {},
   "outputs": [],
   "source": [
    "Q4. What is a generator function in python? Why yield keyword is used? Give an example of a generator\n",
    "function."
   ]
  },
  {
   "cell_type": "code",
   "execution_count": 28,
   "id": "bd1985b6-5713-4bcc-b586-1f261fb9d790",
   "metadata": {},
   "outputs": [],
   "source": [
    "#Generator functions are functions which returns generator object through which we can iterate over values.\n",
    "\n",
    "#It is useful when we we want to produce a large sequence of values, but we dont want to store all of them in memory at once.\n"
   ]
  },
  {
   "cell_type": "code",
   "execution_count": 29,
   "id": "6eb8d4db-7a88-4a93-b8f4-cdf236799cc6",
   "metadata": {},
   "outputs": [
    {
     "name": "stdout",
     "output_type": "stream",
     "text": [
      "<class 'generator'>\n",
      "<generator object fibo at 0x7f4fc030c6d0>\n",
      "[0, 1, 1, 2, 3, 5, 8, 13, 21, 34]\n"
     ]
    }
   ],
   "source": [
    "#fibonacci series using generator function\n",
    "def fibo(n):\n",
    "    a,b=0,1\n",
    "    for i in range(n):\n",
    "        yield a\n",
    "        a,b = b,a+b\n",
    "\n",
    "\n",
    "print(type(fibo(1)))#checking type\n",
    "print(fibo(10))#cant access object directly\n",
    "print(list(fibo(10)))#using list to access object"
   ]
  },
  {
   "cell_type": "code",
   "execution_count": null,
   "id": "6f7bc16e-21f3-45c8-a08d-7e9eca6ab81e",
   "metadata": {},
   "outputs": [],
   "source": [
    "Q5. Create a generator function for prime numbers less than 1000. Use the next() method to print the\n",
    "first 20 prime numbers."
   ]
  },
  {
   "cell_type": "code",
   "execution_count": 30,
   "id": "9d91ddec-599b-4bd3-a68c-09d8b3cbf2d2",
   "metadata": {},
   "outputs": [],
   "source": [
    "max_no = 1000\n",
    "\n",
    "# Function to check if number is prime number or not\n",
    "def is_prime(num):\n",
    "    if num <= 1:\n",
    "        return False\n",
    "    if num == 2:\n",
    "        return True\n",
    "    for i in range(2,num):\n",
    "        if num % i == 0:\n",
    "            return False\n",
    "    return True    \n",
    "\n",
    "# Generator Function \n",
    "def prime_num(max_num):\n",
    "    for i in range(max_num):\n",
    "        if is_prime(i):\n",
    "            yield i"
   ]
  },
  {
   "cell_type": "code",
   "execution_count": 31,
   "id": "507f4cb4-0d20-439c-a99b-cf5fc13bf5f7",
   "metadata": {},
   "outputs": [],
   "source": [
    "prime_gen=prime_num(1000)"
   ]
  },
  {
   "cell_type": "code",
   "execution_count": 32,
   "id": "a9a1ee47-0f9c-4bc0-a654-77f5a611fc95",
   "metadata": {},
   "outputs": [
    {
     "data": {
      "text/plain": [
       "generator"
      ]
     },
     "execution_count": 32,
     "metadata": {},
     "output_type": "execute_result"
    }
   ],
   "source": [
    "type(prime_gen)"
   ]
  },
  {
   "cell_type": "code",
   "execution_count": 33,
   "id": "62d0e3f5-2f8c-48a5-bccf-46c76cc8decf",
   "metadata": {},
   "outputs": [
    {
     "name": "stdout",
     "output_type": "stream",
     "text": [
      "2\n",
      "3\n",
      "5\n",
      "7\n",
      "11\n",
      "13\n",
      "17\n",
      "19\n",
      "23\n",
      "29\n",
      "31\n",
      "37\n",
      "41\n",
      "43\n",
      "47\n",
      "53\n",
      "59\n",
      "61\n",
      "67\n",
      "71\n"
     ]
    }
   ],
   "source": [
    "for i in range(20):\n",
    "    print(next(prime_gen))"
   ]
  },
  {
   "cell_type": "code",
   "execution_count": 39,
   "id": "e88821d2-4581-4f81-8dee-99c26ff47bb1",
   "metadata": {},
   "outputs": [],
   "source": [
    "#Q6. Write a python program to print the first 10 Fibonacci numbers using a while loop."
   ]
  },
  {
   "cell_type": "code",
   "execution_count": 40,
   "id": "c8127d25-94d9-4628-b5c0-a9fe6e1f684d",
   "metadata": {},
   "outputs": [
    {
     "name": "stdout",
     "output_type": "stream",
     "text": [
      "0\n",
      "1\n",
      "1\n",
      "2\n",
      "3\n",
      "5\n",
      "8\n",
      "13\n",
      "21\n",
      "34\n"
     ]
    }
   ],
   "source": [
    "num_terms = 10\n",
    "a, b = 0, 1\n",
    "for _ in range(num_terms):\n",
    "    print(a)\n",
    "    temp = a + b\n",
    "    a = b\n",
    "    b = temp"
   ]
  },
  {
   "cell_type": "code",
   "execution_count": 41,
   "id": "8a627733-0bf8-470d-8728-d0b2dd28c53c",
   "metadata": {},
   "outputs": [],
   "source": [
    "#Q9. Write a code to print odd numbers from 1 to 100 using list comprehension."
   ]
  },
  {
   "cell_type": "code",
   "execution_count": 44,
   "id": "53306f33-439b-4fd5-bc21-18ca3af1ff81",
   "metadata": {},
   "outputs": [
    {
     "name": "stdout",
     "output_type": "stream",
     "text": [
      "[1, 3, 5, 7, 9, 11, 13, 15, 17, 19, 21, 23, 25, 27, 29, 31, 33, 35, 37, 39, 41, 43, 45, 47, 49, 51, 53, 55, 57, 59, 61, 63, 65, 67, 69, 71, 73, 75, 77, 79, 81, 83, 85, 87, 89, 91, 93, 95, 97, 99]\n"
     ]
    }
   ],
   "source": [
    "odd_list = [element for element in range(1, 101)\n",
    "            if element % 2 == 1 ]\n",
    "print(odd_list)"
   ]
  },
  {
   "cell_type": "code",
   "execution_count": null,
   "id": "b9b47c21-0791-4775-8d47-a7eaebfeded4",
   "metadata": {},
   "outputs": [],
   "source": []
  }
 ],
 "metadata": {
  "kernelspec": {
   "display_name": "Python 3 (ipykernel)",
   "language": "python",
   "name": "python3"
  },
  "language_info": {
   "codemirror_mode": {
    "name": "ipython",
    "version": 3
   },
   "file_extension": ".py",
   "mimetype": "text/x-python",
   "name": "python",
   "nbconvert_exporter": "python",
   "pygments_lexer": "ipython3",
   "version": "3.10.8"
  }
 },
 "nbformat": 4,
 "nbformat_minor": 5
}
